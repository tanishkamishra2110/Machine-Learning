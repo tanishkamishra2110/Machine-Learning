{
 "cells": [
  {
   "cell_type": "code",
   "execution_count": 1,
   "id": "beb4810b",
   "metadata": {},
   "outputs": [
    {
     "data": {
      "text/plain": [
       "(100, 2)"
      ]
     },
     "execution_count": 1,
     "metadata": {},
     "output_type": "execute_result"
    }
   ],
   "source": [
    "import numpy as np\n",
    "data = np.loadtxt(\"datasets/data.csv\", delimiter=\",\")\n",
    "data.shape"
   ]
  },
  {
   "cell_type": "code",
   "execution_count": 2,
   "id": "05d5932d",
   "metadata": {},
   "outputs": [],
   "source": [
    "def cost(points,m,c):\n",
    "    totalcost=0\n",
    "    \n",
    "    M=len(points)\n",
    "    for i in range(M):\n",
    "        x=points[i,0]\n",
    "        y=points[i,1]\n",
    "        totatlcost=(1/M)*((y-m*x-c)**2)\n",
    "    return totalcost"
   ]
  },
  {
   "cell_type": "code",
   "execution_count": 3,
   "id": "1333aab7",
   "metadata": {},
   "outputs": [],
   "source": [
    "def step_gradient(points,learning_rate,m,c):\n",
    "    N=len(points)\n",
    "    m_slope = 0\n",
    "    c_slope = 0\n",
    "    for i in range(len(points)):\n",
    "        x=points[i,0]\n",
    "        y=points[i,1]\n",
    "        m_slope+= (-2/N)*(y-m*x-c)*x\n",
    "        c_slope+=(-2/N)*(y-m*x-c)\n",
    "        newm= m-learning_rate*m_slope\n",
    "        newc= c-learning_rate*c_slope\n",
    "        return newm,newc"
   ]
  },
  {
   "cell_type": "code",
   "execution_count": 4,
   "id": "efc73cf8",
   "metadata": {},
   "outputs": [],
   "source": [
    "def gd(points, learning_rate, num_iterations):\n",
    "    m = 0\n",
    "    c = 0\n",
    "    for i in range(num_iterations):\n",
    "        m, c = step_gradient(points, learning_rate, m , c)\n",
    "        print(i, \" Cost: \", cost(points, m, c))\n",
    "    return m, c"
   ]
  },
  {
   "cell_type": "code",
   "execution_count": 5,
   "id": "807b87d7",
   "metadata": {},
   "outputs": [],
   "source": [
    "def run():\n",
    "    data = np.loadtxt(\"datasets/data.csv\",delimiter=\",\")\n",
    "    learning_rate = 0.0001\n",
    "    num_iterations = 100\n",
    "    m, c = gd(data, learning_rate, num_iterations)\n",
    "    print(m, c)"
   ]
  },
  {
   "cell_type": "code",
   "execution_count": 7,
   "id": "a99ecc02",
   "metadata": {},
   "outputs": [
    {
     "name": "stdout",
     "output_type": "stream",
     "text": [
      "0  Cost:  0\n",
      "1  Cost:  0\n",
      "2  Cost:  0\n",
      "3  Cost:  0\n",
      "4  Cost:  0\n",
      "5  Cost:  0\n",
      "6  Cost:  0\n",
      "7  Cost:  0\n",
      "8  Cost:  0\n",
      "9  Cost:  0\n",
      "0.020415995628861303 0.0006281391530244143\n"
     ]
    }
   ],
   "source": [
    "run()"
   ]
  },
  {
   "cell_type": "code",
   "execution_count": null,
   "id": "11ad7626",
   "metadata": {},
   "outputs": [],
   "source": []
  }
 ],
 "metadata": {
  "kernelspec": {
   "display_name": "Python 3 (ipykernel)",
   "language": "python",
   "name": "python3"
  },
  "language_info": {
   "codemirror_mode": {
    "name": "ipython",
    "version": 3
   },
   "file_extension": ".py",
   "mimetype": "text/x-python",
   "name": "python",
   "nbconvert_exporter": "python",
   "pygments_lexer": "ipython3",
   "version": "3.9.13"
  }
 },
 "nbformat": 4,
 "nbformat_minor": 5
}
